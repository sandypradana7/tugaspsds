{
  "nbformat": 4,
  "nbformat_minor": 0,
  "metadata": {
    "colab": {
      "provenance": []
    },
    "kernelspec": {
      "name": "python3",
      "display_name": "Python 3"
    },
    "language_info": {
      "name": "python"
    }
  },
  "cells": [
    {
      "cell_type": "code",
      "execution_count": 1,
      "metadata": {
        "colab": {
          "base_uri": "https://localhost:8080/"
        },
        "id": "PUzKYL9BfPzH",
        "outputId": "226301d9-594a-4c1d-cec3-3b782a9d4dd6"
      },
      "outputs": [
        {
          "output_type": "stream",
          "name": "stdout",
          "text": [
            "[1, 4, 2, 13]\n"
          ]
        }
      ],
      "source": [
        "#contoh list\n",
        "L1 = [1, 4, 2, 13]\n",
        "print(L1)"
      ]
    },
    {
      "cell_type": "code",
      "source": [
        "L2 = [\"a\", \"Python\", 3]\n",
        "print(type(L2))"
      ],
      "metadata": {
        "colab": {
          "base_uri": "https://localhost:8080/"
        },
        "id": "5XHgsrDrf_y3",
        "outputId": "d3aa5072-afdd-4ccd-9f28-4b4f9be91c4c"
      },
      "execution_count": 3,
      "outputs": [
        {
          "output_type": "stream",
          "name": "stdout",
          "text": [
            "<class 'list'>\n"
          ]
        }
      ]
    },
    {
      "cell_type": "code",
      "source": [
        "print(L1)\n",
        "print(L2)"
      ],
      "metadata": {
        "colab": {
          "base_uri": "https://localhost:8080/"
        },
        "id": "MzUCdwYlgVgs",
        "outputId": "d26f0359-9ecb-43f5-ff95-36f8c01b46ce"
      },
      "execution_count": 4,
      "outputs": [
        {
          "output_type": "stream",
          "name": "stdout",
          "text": [
            "[1, 4, 2, 13]\n",
            "['a', 'Python', 3]\n"
          ]
        }
      ]
    },
    {
      "cell_type": "code",
      "source": [
        "#sifat-sifat List\n",
        "\n",
        "#Terurut/Ordered\n",
        "print(\"Memanggil List L1 dengan indeks urutan:\", L1[0:3])\n",
        "\n",
        "#Bisa Diganti/Mutable\n",
        "L1[1] = 2\n",
        "print(\"List L1 setelah diganti elemennya:\", L1)\n",
        "\n",
        "#Dapat Diindeks/Slicing\n",
        "print(\"Slicing List L1:\", L1[3])\n",
        "\n",
        "#Dapat Diizinkan Duplikasi\n",
        "L1 = [1, \"dua\", True, 2+3j, 2+3j]\n",
        "print(\"Duplikasi pada List L1:\", L1)\n",
        "\n",
        "#Dapat Mengubah Data Dengan Elemen Tertentu\n",
        "L1 = [1, \"dua\", True, 2+3j]\n",
        "L1[2] = 3\n",
        "print(\"Data setelah diubah:\", L1)\n",
        "\n",
        "#Dapat Menambahkan Elemen Baru Pada Data\n",
        "L1 = [1, \"dua\", True, 2+3j]\n",
        "L1.append(20)\n",
        "print(\"Data setelah ditambahkan elemennya:\", L1)\n",
        "\n",
        "#Dapat Menghapus Elemen Pada Data (Remove() = Menghapus Berdasarkan Nama Objek)\n",
        "L1 = [1, \"dua\", True, 2+3j]\n",
        "L1.remove(2+3j)\n",
        "print(\"Data setelah dihapus elemennya:\", L1)"
      ],
      "metadata": {
        "colab": {
          "base_uri": "https://localhost:8080/"
        },
        "id": "RBPS5lcDgaVY",
        "outputId": "3d8b20a6-d22e-452b-a097-dab98fa02d9e"
      },
      "execution_count": 5,
      "outputs": [
        {
          "output_type": "stream",
          "name": "stdout",
          "text": [
            "Memanggil List L1 dengan indeks urutan: [1, 4, 2]\n",
            "List L1 setelah diganti elemennya: [1, 2, 2, 13]\n",
            "Slicing List L1: 13\n",
            "Duplikasi pada List L1: [1, 'dua', True, (2+3j), (2+3j)]\n",
            "Data setelah diubah: [1, 'dua', 3, (2+3j)]\n",
            "Data setelah ditambahkan elemennya: [1, 'dua', True, (2+3j), 20]\n",
            "Data setelah dihapus elemennya: [1, 'dua', True]\n"
          ]
        }
      ]
    },
    {
      "cell_type": "code",
      "source": [
        "#Menambahkan data menggunakan fungsi extend(menambahkan elemen baru pada list namun elemen tersebut ditambahkan secara individual)\n",
        "L1 = L1 = [1, \"dua\", True, 2+3j]\n",
        "L1.extend(\"nanas\")\n",
        "print(L1)"
      ],
      "metadata": {
        "colab": {
          "base_uri": "https://localhost:8080/"
        },
        "id": "7WR7eGutkieh",
        "outputId": "f1e89186-5379-4b05-c9cc-36b1e267254f"
      },
      "execution_count": 6,
      "outputs": [
        {
          "output_type": "stream",
          "name": "stdout",
          "text": [
            "[1, 'dua', True, (2+3j), 'n', 'a', 'n', 'a', 's']\n"
          ]
        }
      ]
    },
    {
      "cell_type": "code",
      "source": [
        "L1 = [1, \"dua\", True, 2+3j]\n",
        "L1.extend([\"nanas\"])\n",
        "print(L1)"
      ],
      "metadata": {
        "colab": {
          "base_uri": "https://localhost:8080/"
        },
        "id": "qkbsCz3Pkq9A",
        "outputId": "ac78de0e-0ed3-4963-8f21-605de3e1a345"
      },
      "execution_count": 8,
      "outputs": [
        {
          "output_type": "stream",
          "name": "stdout",
          "text": [
            "[1, 'dua', True, (2+3j), 'nanas']\n"
          ]
        }
      ]
    },
    {
      "cell_type": "code",
      "source": [
        "#Menambahkan data menggunakan fungsi insert(menambahkan elemen baru di list pada indeks tertentu)\n",
        "L1 = [1, \"dua\", True, 2+3j]\n",
        "L1.insert(2, 5)\n",
        "print(L1)"
      ],
      "metadata": {
        "colab": {
          "base_uri": "https://localhost:8080/"
        },
        "id": "halYvuAYk5-8",
        "outputId": "afb24069-d966-4d91-80cb-fa4993b413de"
      },
      "execution_count": 10,
      "outputs": [
        {
          "output_type": "stream",
          "name": "stdout",
          "text": [
            "[1, 'dua', 5, True, (2+3j)]\n"
          ]
        }
      ]
    },
    {
      "cell_type": "code",
      "source": [
        "#Menghapus elemen dari list menggunakan fungsi pop() (menghapus berdasarkan indeks)\n",
        "L1 = [1, \"dua\", True, 2+3j]\n",
        "L1.pop(2)\n",
        "print(L1)"
      ],
      "metadata": {
        "colab": {
          "base_uri": "https://localhost:8080/"
        },
        "id": "048-jdqUliEs",
        "outputId": "984a207a-640e-41d5-abde-5f1bf7078790"
      },
      "execution_count": 11,
      "outputs": [
        {
          "output_type": "stream",
          "name": "stdout",
          "text": [
            "[1, 'dua', (2+3j)]\n"
          ]
        }
      ]
    },
    {
      "cell_type": "code",
      "source": [
        "L1 = [1, \"dua\", True, 2+3j]\n",
        "L1.pop()\n",
        "print(L1)"
      ],
      "metadata": {
        "colab": {
          "base_uri": "https://localhost:8080/"
        },
        "id": "z0chUZx6l34_",
        "outputId": "bd622307-18e2-4cec-875a-d63810340fb9"
      },
      "execution_count": 12,
      "outputs": [
        {
          "output_type": "stream",
          "name": "stdout",
          "text": [
            "[1, 'dua', True]\n"
          ]
        }
      ]
    },
    {
      "cell_type": "markdown",
      "source": [
        "Latihan 1"
      ],
      "metadata": {
        "id": "Nag8LiqCl_K0"
      }
    },
    {
      "cell_type": "code",
      "source": [
        "#Buatlah List kalian sendiri\n",
        "L1 = [17, 9, 28, 7]\n",
        "print(L1)"
      ],
      "metadata": {
        "colab": {
          "base_uri": "https://localhost:8080/"
        },
        "id": "zdW3A-GtmBmP",
        "outputId": "ec326615-a525-41b7-a381-10205b8ad147"
      },
      "execution_count": 13,
      "outputs": [
        {
          "output_type": "stream",
          "name": "stdout",
          "text": [
            "[17, 9, 28, 7]\n"
          ]
        }
      ]
    },
    {
      "cell_type": "code",
      "source": [
        "L2 = [\"a\", \"Python\", 2]\n",
        "print(type(L2))"
      ],
      "metadata": {
        "colab": {
          "base_uri": "https://localhost:8080/"
        },
        "id": "yM-DseLamnm6",
        "outputId": "ce6d1c41-19c7-4dc7-97fb-c6f52a82a277"
      },
      "execution_count": 15,
      "outputs": [
        {
          "output_type": "stream",
          "name": "stdout",
          "text": [
            "<class 'list'>\n"
          ]
        }
      ]
    },
    {
      "cell_type": "code",
      "source": [
        "print(L1)\n",
        "print(L2)"
      ],
      "metadata": {
        "colab": {
          "base_uri": "https://localhost:8080/"
        },
        "id": "tIduxC5Rmvvc",
        "outputId": "8e32ba92-b3a6-4a12-8885-591666c388df"
      },
      "execution_count": 16,
      "outputs": [
        {
          "output_type": "stream",
          "name": "stdout",
          "text": [
            "[17, 9, 28, 7]\n",
            "['a', 'Python', 2]\n"
          ]
        }
      ]
    },
    {
      "cell_type": "code",
      "source": [
        "#Terurut/Ordered\n",
        "print(\"Memanggil List L1 dengan indeks urutan:\", L1[0:3])\n",
        "\n",
        "#Bisa Diganti/Mutable\n",
        "L1[1] = 3\n",
        "print(\"List L1 setelah diganti elemennya:\", L1)\n",
        "\n",
        "#Dapat Diindeks/Slicing\n",
        "print(\"Slicing List L1:\", L1[2])\n",
        "\n",
        "#Dapat Diizinkan Duplikasi\n",
        "L1 = [2, \"tujuh\", False, 1+6j, 1+6j]\n",
        "print(\"Duplikasi pada List L1:\", L1)\n",
        "\n",
        "#Dapat Mengubah Data Dengan Elemen Tertentu\n",
        "L1 = [2, \"tujuh\", False, 1+6j]\n",
        "L1[2] = 4\n",
        "print(\"Data setelah diubah:\", L1)\n",
        "\n",
        "#Dapat Menambahkan Elemen Baru Pada Data\n",
        "L1 = [2, \"tujuh\", False, 1+6j]\n",
        "L1.append(10)\n",
        "print(\"Data setelah ditambahkan elemennya:\", L1)\n",
        "\n",
        "#Dapat Menghapus Elemen Pada Data (Remove() = Menghapus Berdasarkan Nama Objek)\n",
        "L1 = [2, \"tujuh\", False, 1+6j]\n",
        "L1.remove(1+6j)\n",
        "print(\"Data setelah dihapus elemennya:\", L1)"
      ],
      "metadata": {
        "colab": {
          "base_uri": "https://localhost:8080/"
        },
        "id": "l-H7AIDsm3y4",
        "outputId": "fd0d1d22-0484-4235-e470-41bcd1ccbeb6"
      },
      "execution_count": 17,
      "outputs": [
        {
          "output_type": "stream",
          "name": "stdout",
          "text": [
            "Memanggil List L1 dengan indeks urutan: [17, 9, 28]\n",
            "List L1 setelah diganti elemennya: [17, 3, 28, 7]\n",
            "Slicing List L1: 28\n",
            "Duplikasi pada List L1: [2, 'tujuh', False, (1+6j), (1+6j)]\n",
            "Data setelah diubah: [2, 'tujuh', 4, (1+6j)]\n",
            "Data setelah ditambahkan elemennya: [2, 'tujuh', False, (1+6j), 10]\n",
            "Data setelah dihapus elemennya: [2, 'tujuh', False]\n"
          ]
        }
      ]
    },
    {
      "cell_type": "code",
      "source": [
        "#Menambahkan data menggunakan fungsi extend(menambahkan elemen baru pada list namun elemen tersebut ditambahkan secara individual)\n",
        "L1 = [2, \"tujuh\", False, 1+6j]\n",
        "L1.extend(\"Ronaldo\")\n",
        "print(L1)"
      ],
      "metadata": {
        "colab": {
          "base_uri": "https://localhost:8080/"
        },
        "id": "YyQn38jwoC41",
        "outputId": "58029de2-b26f-445c-dcd7-c62a890bba84"
      },
      "execution_count": 19,
      "outputs": [
        {
          "output_type": "stream",
          "name": "stdout",
          "text": [
            "[2, 'tujuh', False, (1+6j), 'R', 'o', 'n', 'a', 'l', 'd', 'o']\n"
          ]
        }
      ]
    },
    {
      "cell_type": "code",
      "source": [
        "L1 = [2, \"tujuh\", False, 1+6j]\n",
        "L1.extend([\"Ronaldo\"])\n",
        "print(L1)"
      ],
      "metadata": {
        "colab": {
          "base_uri": "https://localhost:8080/"
        },
        "id": "E0G7w5mVoTis",
        "outputId": "67c753cb-b23b-415f-a2bd-9167eabbb40b"
      },
      "execution_count": 20,
      "outputs": [
        {
          "output_type": "stream",
          "name": "stdout",
          "text": [
            "[2, 'tujuh', False, (1+6j), 'Ronaldo']\n"
          ]
        }
      ]
    },
    {
      "cell_type": "code",
      "source": [
        "#Menambahkan data menggunakan fungsi insert(menambahkan elemen baru di list pada indeks tertentu)\n",
        "L1 = [2, \"tujuh\", False, 1+6j]\n",
        "L1.insert(3, 4)\n",
        "print(L1)"
      ],
      "metadata": {
        "colab": {
          "base_uri": "https://localhost:8080/"
        },
        "id": "5z1Aes0IoePR",
        "outputId": "ad5ff2be-87a1-49f0-e9c6-728996511414"
      },
      "execution_count": 21,
      "outputs": [
        {
          "output_type": "stream",
          "name": "stdout",
          "text": [
            "[2, 'tujuh', False, 4, (1+6j)]\n"
          ]
        }
      ]
    },
    {
      "cell_type": "code",
      "source": [
        "#Menghapus elemen dari list menggunakan fungsi pop() (menghapus berdasarkan indeks)\n",
        "L1 = [2, \"tujuh\", False, 1+6j]\n",
        "L1.pop(3)\n",
        "print(L1)"
      ],
      "metadata": {
        "colab": {
          "base_uri": "https://localhost:8080/"
        },
        "id": "D_vf_FSNoo5f",
        "outputId": "c0015749-f7dc-45c9-87c8-551f800bb673"
      },
      "execution_count": 22,
      "outputs": [
        {
          "output_type": "stream",
          "name": "stdout",
          "text": [
            "[2, 'tujuh', False]\n"
          ]
        }
      ]
    },
    {
      "cell_type": "code",
      "source": [
        "L1 = [2, \"tujuh\", False, 1+6j]\n",
        "L1.pop()\n",
        "print(L1)"
      ],
      "metadata": {
        "colab": {
          "base_uri": "https://localhost:8080/"
        },
        "id": "5-vTkQWGo52C",
        "outputId": "97432e00-1642-47af-f576-1cf11e950e3f"
      },
      "execution_count": 23,
      "outputs": [
        {
          "output_type": "stream",
          "name": "stdout",
          "text": [
            "[2, 'tujuh', False]\n"
          ]
        }
      ]
    },
    {
      "cell_type": "markdown",
      "source": [
        "Latihan 2"
      ],
      "metadata": {
        "id": "6AFacL12pVux"
      }
    },
    {
      "cell_type": "code",
      "source": [
        "#Ganti elemen yang ada pada list yang kalian buat\n",
        "\n",
        "#Buatlah List kalian sendiri\n",
        "L1 = [99, 77, 55, 111]\n",
        "print(L1)"
      ],
      "metadata": {
        "colab": {
          "base_uri": "https://localhost:8080/"
        },
        "id": "D_QdOsKYpXjB",
        "outputId": "0f31ddc2-ad93-4951-fb3b-1fff618b41ef"
      },
      "execution_count": 24,
      "outputs": [
        {
          "output_type": "stream",
          "name": "stdout",
          "text": [
            "[99, 77, 55, 111]\n"
          ]
        }
      ]
    },
    {
      "cell_type": "code",
      "source": [
        "L2 = [\"a\", \"Python\", 2]\n",
        "print(type(L2))"
      ],
      "metadata": {
        "colab": {
          "base_uri": "https://localhost:8080/"
        },
        "id": "bsAJe6R7qjZe",
        "outputId": "13fb2848-6309-4334-cb8e-aaae7b855a5a"
      },
      "execution_count": 25,
      "outputs": [
        {
          "output_type": "stream",
          "name": "stdout",
          "text": [
            "<class 'list'>\n"
          ]
        }
      ]
    },
    {
      "cell_type": "code",
      "source": [
        "print(L1)\n",
        "print(L2)"
      ],
      "metadata": {
        "colab": {
          "base_uri": "https://localhost:8080/"
        },
        "id": "VQdcFcHbqoVP",
        "outputId": "a7875757-d12a-4a21-abe8-d7cf2a595918"
      },
      "execution_count": 26,
      "outputs": [
        {
          "output_type": "stream",
          "name": "stdout",
          "text": [
            "[99, 77, 55, 111]\n",
            "['a', 'Python', 2]\n"
          ]
        }
      ]
    },
    {
      "cell_type": "code",
      "source": [
        "#Terurut/Ordered\n",
        "print(\"Memanggil List L1 dengan indeks urutan:\", L1[0:3])\n",
        "\n",
        "#Bisa Diganti/Mutable\n",
        "L1[1] = 3\n",
        "print(\"List L1 setelah diganti elemennya:\", L1)\n",
        "\n",
        "#Dapat Diindeks/Slicing\n",
        "print(\"Slicing List L1:\", L1[2])\n",
        "\n",
        "#Dapat Diizinkan Duplikasi\n",
        "L1 = [2, \"tujuh\", False, 1+6j, 1+6j]\n",
        "print(\"Duplikasi pada List L1:\", L1)\n",
        "\n",
        "#Dapat Mengubah Data Dengan Elemen Tertentu\n",
        "L1 = [2, \"tujuh\", False, 1+6j]\n",
        "L1[2] = 4\n",
        "print(\"Data setelah diubah:\", L1)\n",
        "\n",
        "#Dapat Menambahkan Elemen Baru Pada Data\n",
        "L1 = [2, \"tujuh\", False, 1+6j]\n",
        "L1.append(10)\n",
        "print(\"Data setelah ditambahkan elemennya:\", L1)\n",
        "\n",
        "#Dapat Menghapus Elemen Pada Data (Remove() = Menghapus Berdasarkan Nama Objek)\n",
        "L1 = [2, \"tujuh\", False, 1+6j]\n",
        "L1.remove(1+6j)\n",
        "print(\"Data setelah dihapus elemennya:\", L1)"
      ],
      "metadata": {
        "colab": {
          "base_uri": "https://localhost:8080/"
        },
        "id": "b3FsXz77qvnM",
        "outputId": "d7523721-f19b-47c4-9236-54786b780572"
      },
      "execution_count": 27,
      "outputs": [
        {
          "output_type": "stream",
          "name": "stdout",
          "text": [
            "Memanggil List L1 dengan indeks urutan: [99, 77, 55]\n",
            "List L1 setelah diganti elemennya: [99, 3, 55, 111]\n",
            "Slicing List L1: 55\n",
            "Duplikasi pada List L1: [2, 'tujuh', False, (1+6j), (1+6j)]\n",
            "Data setelah diubah: [2, 'tujuh', 4, (1+6j)]\n",
            "Data setelah ditambahkan elemennya: [2, 'tujuh', False, (1+6j), 10]\n",
            "Data setelah dihapus elemennya: [2, 'tujuh', False]\n"
          ]
        }
      ]
    },
    {
      "cell_type": "code",
      "source": [
        "#Menambahkan data menggunakan fungsi extend(menambahkan elemen baru pada list namun elemen tersebut ditambahkan secara individual)\n",
        "L1 = [2, \"tujuh\", False, 1+6j]\n",
        "L1.extend(\"Ronaldo\")\n",
        "print(L1)"
      ],
      "metadata": {
        "colab": {
          "base_uri": "https://localhost:8080/"
        },
        "id": "tJXWsymZqyTh",
        "outputId": "37f03828-daa6-4c43-be47-2a66f3288a54"
      },
      "execution_count": 28,
      "outputs": [
        {
          "output_type": "stream",
          "name": "stdout",
          "text": [
            "[2, 'tujuh', False, (1+6j), 'R', 'o', 'n', 'a', 'l', 'd', 'o']\n"
          ]
        }
      ]
    },
    {
      "cell_type": "code",
      "source": [
        "L1 = [2, \"tujuh\", False, 1+6j]\n",
        "L1.extend([\"Ronaldo\"])\n",
        "print(L1)"
      ],
      "metadata": {
        "colab": {
          "base_uri": "https://localhost:8080/"
        },
        "id": "GwVC2-Kiq4G-",
        "outputId": "d8c51651-ccfc-4135-8695-b1cef8ef3fd0"
      },
      "execution_count": 29,
      "outputs": [
        {
          "output_type": "stream",
          "name": "stdout",
          "text": [
            "[2, 'tujuh', False, (1+6j), 'Ronaldo']\n"
          ]
        }
      ]
    },
    {
      "cell_type": "code",
      "source": [
        "#Menambahkan data menggunakan fungsi insert(menambahkan elemen baru di list pada indeks tertentu)\n",
        "L1 = [2, \"tujuh\", False, 1+6j]\n",
        "L1.insert(3, 4)\n",
        "print(L1)"
      ],
      "metadata": {
        "colab": {
          "base_uri": "https://localhost:8080/"
        },
        "id": "72GSNJDArEeM",
        "outputId": "ce2dca10-f131-4009-e648-c7a79db0ee21"
      },
      "execution_count": 30,
      "outputs": [
        {
          "output_type": "stream",
          "name": "stdout",
          "text": [
            "[2, 'tujuh', False, 4, (1+6j)]\n"
          ]
        }
      ]
    },
    {
      "cell_type": "code",
      "source": [
        "#Menghapus elemen dari list menggunakan fungsi pop() (menghapus berdasarkan indeks)\n",
        "L1 = [2, \"tujuh\", False, 1+6j]\n",
        "L1.pop(3)\n",
        "print(L1)"
      ],
      "metadata": {
        "colab": {
          "base_uri": "https://localhost:8080/"
        },
        "id": "Cs9dRzOErJWO",
        "outputId": "9bf13f1f-a4a9-4fda-91b4-0b6646237e2f"
      },
      "execution_count": 31,
      "outputs": [
        {
          "output_type": "stream",
          "name": "stdout",
          "text": [
            "[2, 'tujuh', False]\n"
          ]
        }
      ]
    },
    {
      "cell_type": "code",
      "source": [
        "L1 = [2, \"tujuh\", False, 1+6j]\n",
        "L1.pop()\n",
        "print(L1)"
      ],
      "metadata": {
        "colab": {
          "base_uri": "https://localhost:8080/"
        },
        "id": "XpPQjKodrMFV",
        "outputId": "35b72c0d-15d1-4c38-9754-ad7fe57bb296"
      },
      "execution_count": 32,
      "outputs": [
        {
          "output_type": "stream",
          "name": "stdout",
          "text": [
            "[2, 'tujuh', False]\n"
          ]
        }
      ]
    }
  ]
}