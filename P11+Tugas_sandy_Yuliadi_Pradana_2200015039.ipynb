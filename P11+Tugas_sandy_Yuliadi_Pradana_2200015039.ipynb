{
  "nbformat": 4,
  "nbformat_minor": 0,
  "metadata": {
    "colab": {
      "provenance": []
    },
    "kernelspec": {
      "name": "python3",
      "display_name": "Python 3"
    },
    "language_info": {
      "name": "python"
    }
  },
  "cells": [
    {
      "cell_type": "markdown",
      "source": [
        "Function"
      ],
      "metadata": {
        "id": "s6wSMQ0m4DqB"
      }
    },
    {
      "cell_type": "markdown",
      "source": [
        "Argumen dan parameter"
      ],
      "metadata": {
        "id": "EBuXHoRV4Obh"
      }
    },
    {
      "cell_type": "code",
      "execution_count": 1,
      "metadata": {
        "colab": {
          "base_uri": "https://localhost:8080/"
        },
        "id": "Gql4QOw8zxZy",
        "outputId": "952f0efd-60f4-4353-8984-c4c428e1968f"
      },
      "outputs": [
        {
          "output_type": "stream",
          "name": "stdout",
          "text": [
            "Budi\n"
          ]
        }
      ],
      "source": [
        "def print_nama(nama): #'nama' adalah parameter\n",
        "    print(nama)\n",
        "print_nama('Budi') #'Budi' adalah argumen"
      ]
    },
    {
      "cell_type": "markdown",
      "source": [
        "Argumen posisi dan kata kunci"
      ],
      "metadata": {
        "id": "bYDrXPqr4xQ_"
      }
    },
    {
      "cell_type": "code",
      "source": [
        "def angka(a, b, c):\n",
        "    print(a, b, c)\n",
        "\n",
        "#argumen posisi\n",
        "#argumen berdasarkan posisinya\n",
        "angka(1, 2, 3)\n",
        "\n",
        "#argumen berdasarkan kata kuncinya\n",
        "angka(a=1, b=2, c=3)\n",
        "angka(c=3, b=2, a=1)\n",
        "\n",
        "#catatan: jika sudah diberi kata kunci maka urutan tidak menjadi penting\n",
        "\n",
        "#campuran antara argumen posisi dan argumen kata kunci\n",
        "angka(1, b=2, c=2)\n",
        "\n",
        "#ini tidak diijinkan\n",
        "#foo(1, b=2, 3) #argumen posisional setelah argumen kunci\n",
        "#foo(1, b=2, a=3) #terdapat dua nilai untuk argumen kunci 'a'\n"
      ],
      "metadata": {
        "colab": {
          "base_uri": "https://localhost:8080/"
        },
        "id": "dTthpXwB41-J",
        "outputId": "2c27f5c6-a8df-4f54-8742-88f674fb6f7c"
      },
      "execution_count": 9,
      "outputs": [
        {
          "output_type": "stream",
          "name": "stdout",
          "text": [
            "1 2 3\n",
            "1 2 3\n",
            "1 2 3\n",
            "1 2 2\n"
          ]
        }
      ]
    },
    {
      "cell_type": "markdown",
      "source": [
        "Argumen Default"
      ],
      "metadata": {
        "id": "_QzL5DK_76Ou"
      }
    },
    {
      "cell_type": "code",
      "source": [
        "#argumen default\n",
        "def angka2(a, b, c, d=4):\n",
        "    print(a, b, c, d)\n",
        "\n",
        "angka2(1, 2, 3, 4)\n",
        "angka2(1, b=2, c=3, d=100)\n",
        "\n",
        "#argumen default harus diletakkan terakhir"
      ],
      "metadata": {
        "colab": {
          "base_uri": "https://localhost:8080/"
        },
        "id": "AXuqSp9W8C4D",
        "outputId": "25e12987-4f6a-4fe7-dd74-001254941ca0"
      },
      "execution_count": 10,
      "outputs": [
        {
          "output_type": "stream",
          "name": "stdout",
          "text": [
            "1 2 3 4\n",
            "1 2 3 100\n"
          ]
        }
      ]
    },
    {
      "cell_type": "markdown",
      "source": [
        "Praktik Membuat Fungsi"
      ],
      "metadata": {
        "id": "tQl9R5EW8x-C"
      }
    },
    {
      "cell_type": "code",
      "source": [
        "x = 1\n",
        "y = 2\n",
        "x*y"
      ],
      "metadata": {
        "colab": {
          "base_uri": "https://localhost:8080/"
        },
        "id": "eGKoq3HB83yz",
        "outputId": "cfdaa898-c04d-4919-e32c-74b3145c1ec4"
      },
      "execution_count": 11,
      "outputs": [
        {
          "output_type": "execute_result",
          "data": {
            "text/plain": [
              "2"
            ]
          },
          "metadata": {},
          "execution_count": 11
        }
      ]
    },
    {
      "cell_type": "code",
      "source": [
        "def penjumlahan(x,y): #input\n",
        "  a = x + y            #proses\n",
        "  return a              #output\n",
        "\n",
        "penjumlahan(1, 2)       #menggunakan fungsi"
      ],
      "metadata": {
        "colab": {
          "base_uri": "https://localhost:8080/"
        },
        "id": "p7EjzyHY8-23",
        "outputId": "6ffc524d-9b00-4efb-e1b2-8e3ce9b0832a"
      },
      "execution_count": 12,
      "outputs": [
        {
          "output_type": "execute_result",
          "data": {
            "text/plain": [
              "3"
            ]
          },
          "metadata": {},
          "execution_count": 12
        }
      ]
    },
    {
      "cell_type": "markdown",
      "source": [
        "penjumlahan yang memungkinkan untuk tiga bilangan"
      ],
      "metadata": {
        "id": "EovbXpKM9pKd"
      }
    },
    {
      "cell_type": "code",
      "source": [
        "def penjumlahan(x,y,z=None):\n",
        "  if (z==None):\n",
        "    return x+y\n",
        "  else:\n",
        "    return x+y+z\n",
        "\n",
        "print(penjumlahan(1, 2))\n",
        "print(penjumlahan(1, 2, 3))"
      ],
      "metadata": {
        "colab": {
          "base_uri": "https://localhost:8080/"
        },
        "id": "NzgrfO5S96kU",
        "outputId": "5fb532f5-5e9b-4b5b-fce4-71438a75500f"
      },
      "execution_count": 13,
      "outputs": [
        {
          "output_type": "stream",
          "name": "stdout",
          "text": [
            "3\n",
            "6\n"
          ]
        }
      ]
    },
    {
      "cell_type": "markdown",
      "source": [
        "menyimpan hasil fungsi dalam variabel"
      ],
      "metadata": {
        "id": "a_grBK36-euj"
      }
    },
    {
      "cell_type": "code",
      "source": [
        "def penjumlahan(x,y):\n",
        "  return x+y\n",
        "\n",
        "a = penjumlahan\n",
        "a(1, 2)"
      ],
      "metadata": {
        "colab": {
          "base_uri": "https://localhost:8080/"
        },
        "id": "mMZkNub6-jXZ",
        "outputId": "8a35759a-aa34-4ca3-dcce-0d855fb5426a"
      },
      "execution_count": 14,
      "outputs": [
        {
          "output_type": "execute_result",
          "data": {
            "text/plain": [
              "3"
            ]
          },
          "metadata": {},
          "execution_count": 14
        }
      ]
    },
    {
      "cell_type": "markdown",
      "source": [
        "Latihan 1"
      ],
      "metadata": {
        "id": "wUy9WJKx-0eP"
      }
    },
    {
      "cell_type": "code",
      "source": [
        "import math\n",
        "def pythagoras(alas, tinggi):\n",
        "  sisi_miring = math.sqrt(alas**2 + tinggi**2)\n",
        "  return sisi_miring\n",
        "\n",
        "alas = 3\n",
        "tinggi = 4\n",
        "sisi_miring = pythagoras(alas, tinggi)\n",
        "print(\"panjang sisi miring: \", sisi_miring)\n",
        "\n"
      ],
      "metadata": {
        "colab": {
          "base_uri": "https://localhost:8080/"
        },
        "id": "p29Wf8elASz9",
        "outputId": "a093ce20-2c9e-40e4-a7cb-3f94ca6277a3"
      },
      "execution_count": 21,
      "outputs": [
        {
          "output_type": "stream",
          "name": "stdout",
          "text": [
            "panjang sisi miring:  5.0\n"
          ]
        }
      ]
    },
    {
      "cell_type": "markdown",
      "source": [
        "Latihan 2"
      ],
      "metadata": {
        "id": "7raP1kc3CFWx"
      }
    },
    {
      "cell_type": "code",
      "source": [
        "def luas_permukaan_balok(panjnag, lebar, tinggi):\n",
        "  luas_permukaan = 2 * (panjnag*lebar + panjang*tinggi + lebar*tinggi)\n",
        "  return luas_permukaan\n",
        "\n",
        "panjang = 4\n",
        "lebar = 3\n",
        "tinggi = 5\n",
        "luas = luas_permukaan_balok(panjang, lebar, tinggi)\n",
        "print(\"luas permukaan balok: \", luas)"
      ],
      "metadata": {
        "colab": {
          "base_uri": "https://localhost:8080/"
        },
        "id": "aUOERaVBCILE",
        "outputId": "56820936-a47c-48c6-85d3-e90777c729c4"
      },
      "execution_count": 1,
      "outputs": [
        {
          "output_type": "stream",
          "name": "stdout",
          "text": [
            "luas permukaan balok:  94\n"
          ]
        }
      ]
    },
    {
      "cell_type": "markdown",
      "source": [
        "Lambda"
      ],
      "metadata": {
        "id": "wIy0lrjnDjZT"
      }
    },
    {
      "cell_type": "code",
      "source": [
        "greeting = lambda name : print(f\"hellO, (name)\")"
      ],
      "metadata": {
        "id": "kjpV1aWZEC5N"
      },
      "execution_count": 3,
      "outputs": []
    },
    {
      "cell_type": "code",
      "source": [
        "greeting(\"Dian\")\n",
        "greeting(\"Ayu\")"
      ],
      "metadata": {
        "colab": {
          "base_uri": "https://localhost:8080/"
        },
        "id": "EBt_vzkdEOIu",
        "outputId": "41526eaa-7202-4f2f-852f-123ed598d936"
      },
      "execution_count": 4,
      "outputs": [
        {
          "output_type": "stream",
          "name": "stdout",
          "text": [
            "hellO, (name)\n",
            "hellO, (name)\n"
          ]
        }
      ]
    },
    {
      "cell_type": "code",
      "source": [
        "#Fungsi Lambda untuk menambahkan angka 10 kepada argument input\n",
        "f = lambda x : x+10\n",
        "val1 = f(5)\n",
        "val2 = f(100)\n",
        "print(val1, val2)"
      ],
      "metadata": {
        "colab": {
          "base_uri": "https://localhost:8080/"
        },
        "id": "aofg5-FNEcBy",
        "outputId": "6ab8e0e9-28dd-42ed-b9d9-597f8b71100f"
      },
      "execution_count": 6,
      "outputs": [
        {
          "output_type": "stream",
          "name": "stdout",
          "text": [
            "15 110\n"
          ]
        }
      ]
    },
    {
      "cell_type": "code",
      "source": [
        "#Fungsi Lambda untuk mengalikan dua argument input dan menampilkan hasilnya\n",
        "f = lambda x,y : x*y\n",
        "val3 = f(2, 10)\n",
        "val4 = f(7, 5)\n",
        "print(val3, val4)"
      ],
      "metadata": {
        "id": "i49th7MXFQOr",
        "outputId": "c8aac689-19cc-41cd-d3ae-ee7a888f0752",
        "colab": {
          "base_uri": "https://localhost:8080/"
        }
      },
      "execution_count": 8,
      "outputs": [
        {
          "output_type": "stream",
          "name": "stdout",
          "text": [
            "20 35\n"
          ]
        }
      ]
    },
    {
      "cell_type": "markdown",
      "source": [
        "Anonymous Function"
      ],
      "metadata": {
        "id": "10Q1-FFsF86R"
      }
    },
    {
      "cell_type": "code",
      "source": [
        "def say_hello(nama):\n",
        "  print(f\"hello(nama), apa kabar?\")\n",
        "\n",
        "ucapin = say_hello(nama)"
      ],
      "metadata": {
        "id": "o4mZjDwEGDLj",
        "outputId": "2f6571b6-651f-4c71-ec98-85519df9f876",
        "colab": {
          "base_uri": "https://localhost:8080/",
          "height": 200
        }
      },
      "execution_count": 9,
      "outputs": [
        {
          "output_type": "error",
          "ename": "NameError",
          "evalue": "ignored",
          "traceback": [
            "\u001b[0;31m---------------------------------------------------------------------------\u001b[0m",
            "\u001b[0;31mNameError\u001b[0m                                 Traceback (most recent call last)",
            "\u001b[0;32m<ipython-input-9-f8f4e92b6bef>\u001b[0m in \u001b[0;36m<cell line: 4>\u001b[0;34m()\u001b[0m\n\u001b[1;32m      2\u001b[0m   \u001b[0mprint\u001b[0m\u001b[0;34m(\u001b[0m\u001b[0;34mf\"hello(nama), apa kabar?\"\u001b[0m\u001b[0;34m)\u001b[0m\u001b[0;34m\u001b[0m\u001b[0;34m\u001b[0m\u001b[0m\n\u001b[1;32m      3\u001b[0m \u001b[0;34m\u001b[0m\u001b[0m\n\u001b[0;32m----> 4\u001b[0;31m \u001b[0mucapin\u001b[0m \u001b[0;34m=\u001b[0m \u001b[0msay_hello\u001b[0m\u001b[0;34m(\u001b[0m\u001b[0mnama\u001b[0m\u001b[0;34m)\u001b[0m\u001b[0;34m\u001b[0m\u001b[0;34m\u001b[0m\u001b[0m\n\u001b[0m",
            "\u001b[0;31mNameError\u001b[0m: name 'nama' is not defined"
          ]
        }
      ]
    },
    {
      "cell_type": "code",
      "source": [
        "greeting = lambda name : print(f\"hello, (name)\")\n",
        "sapa = greeting\n",
        "greeting(\"Andi\")\n",
        "sapa(\"Neli\")"
      ],
      "metadata": {
        "id": "kTuXGB09GfAn",
        "outputId": "350943a1-3b3f-4317-cb6a-1987dc50616a",
        "colab": {
          "base_uri": "https://localhost:8080/"
        }
      },
      "execution_count": 10,
      "outputs": [
        {
          "output_type": "stream",
          "name": "stdout",
          "text": [
            "hello, (name)\n",
            "hello, (name)\n"
          ]
        }
      ]
    },
    {
      "cell_type": "markdown",
      "source": [
        "Eksekusi Lambda Secara Langsung"
      ],
      "metadata": {
        "id": "nzxiUANWG5ha"
      }
    },
    {
      "cell_type": "code",
      "source": [
        "#contohnya\n",
        "(lambda x,y : x**2 + y**2)(4,6)"
      ],
      "metadata": {
        "id": "5ArgJNliG_FX",
        "outputId": "1d4d3202-084e-4e04-f874-beca41b275ba",
        "colab": {
          "base_uri": "https://localhost:8080/"
        }
      },
      "execution_count": 13,
      "outputs": [
        {
          "output_type": "execute_result",
          "data": {
            "text/plain": [
              "52"
            ]
          },
          "metadata": {},
          "execution_count": 13
        }
      ]
    },
    {
      "cell_type": "code",
      "source": [
        "#hasil dari eksekusi ini juga kita simpan ke dalam variabel\n",
        "hasil = (lambda x,y : x**2 + y**2)(4,6)"
      ],
      "metadata": {
        "id": "IZJm0aPYHsL_"
      },
      "execution_count": 14,
      "outputs": []
    },
    {
      "cell_type": "markdown",
      "source": [
        "Mengapa Harus Pakai Lambda\n",
        "karena di fungsi-fungsi tersebut membutuhkan parameter fungsi"
      ],
      "metadata": {
        "id": "monZd-UIIKuF"
      }
    },
    {
      "cell_type": "code",
      "source": [
        "#contoh\n",
        "bilangan = [10,2,8,7,5,4,3,11,0,1]\n",
        "filtered_result = map (lambda x : x*x, bilangan)\n",
        "print(list(filtered_result))"
      ],
      "metadata": {
        "id": "T6BW4BToIfto",
        "outputId": "a53e68ce-2359-4577-cf2e-4e52d777b16e",
        "colab": {
          "base_uri": "https://localhost:8080/"
        }
      },
      "execution_count": 15,
      "outputs": [
        {
          "output_type": "stream",
          "name": "stdout",
          "text": [
            "[100, 4, 64, 49, 25, 16, 9, 121, 0, 1]\n"
          ]
        }
      ]
    },
    {
      "cell_type": "code",
      "source": [
        "#menentukan bilangan genap\n",
        "genap = lambda x : x%2 ==0\n",
        "list(filter(genap, range(11)))"
      ],
      "metadata": {
        "id": "F0DZdGJGI-V1",
        "outputId": "131fe441-3ff0-4726-c5c1-341217e5b1ce",
        "colab": {
          "base_uri": "https://localhost:8080/"
        }
      },
      "execution_count": 18,
      "outputs": [
        {
          "output_type": "execute_result",
          "data": {
            "text/plain": [
              "[0, 2, 4, 6, 8, 10]"
            ]
          },
          "metadata": {},
          "execution_count": 18
        }
      ]
    },
    {
      "cell_type": "markdown",
      "source": [
        "Tugas"
      ],
      "metadata": {
        "id": "VN8tgK1QJovI"
      }
    },
    {
      "cell_type": "code",
      "source": [
        "#Nomer 1\n",
        "hitung_persegi_panjang = lambda panjang, lebar : panjang*lebar\n",
        "\n",
        "panjang = 5\n",
        "lebar = 3\n",
        "luas = hitung_persegi_panjang(panjang, lebar)\n",
        "print(\"luas persegi panjang: \", luas)"
      ],
      "metadata": {
        "id": "IsCVUxZSJtK8",
        "outputId": "ff196ec3-acc8-4d42-88a3-ceb55a77464e",
        "colab": {
          "base_uri": "https://localhost:8080/"
        }
      },
      "execution_count": 19,
      "outputs": [
        {
          "output_type": "stream",
          "name": "stdout",
          "text": [
            "luas persegi panjang:  15\n"
          ]
        }
      ]
    },
    {
      "cell_type": "code",
      "source": [
        "#Nomer 2\n",
        "hitung_luas_segitiga = lambda alas, tinggi : (alas*tinggi)/2\n",
        "\n",
        "alas = 6\n",
        "tinggi = 4\n",
        "luas = hitung_luas_segitiga(alas, tinggi)\n",
        "print(\"luas segitiga: \", luas)"
      ],
      "metadata": {
        "id": "Da5rjPTMKU8o",
        "outputId": "b8638258-ec61-4738-9ae6-18176925d75e",
        "colab": {
          "base_uri": "https://localhost:8080/"
        }
      },
      "execution_count": 22,
      "outputs": [
        {
          "output_type": "stream",
          "name": "stdout",
          "text": [
            "luas segitiga:  12.0\n"
          ]
        }
      ]
    }
  ]
}