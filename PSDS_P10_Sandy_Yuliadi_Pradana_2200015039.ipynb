{
  "nbformat": 4,
  "nbformat_minor": 0,
  "metadata": {
    "colab": {
      "provenance": []
    },
    "kernelspec": {
      "name": "python3",
      "display_name": "Python 3"
    },
    "language_info": {
      "name": "python"
    }
  },
  "cells": [
    {
      "cell_type": "code",
      "execution_count": 2,
      "metadata": {
        "colab": {
          "base_uri": "https://localhost:8080/"
        },
        "id": "yOBsye43UfmM",
        "outputId": "8eecc17c-cde3-4c55-d897-ea3f9e34325a"
      },
      "outputs": [
        {
          "output_type": "stream",
          "name": "stdout",
          "text": [
            "27\n"
          ]
        }
      ],
      "source": [
        "#Program untuk menghitung jumlah semua angka dalam sebuah list\n",
        "L1 = [2, 4, 5, 7, 9]\n",
        "jumlah = 0\n",
        "\n",
        "#iterasi didalam list\n",
        "for i in L1:\n",
        "  jumlah = jumlah + i\n",
        "\n",
        "print(jumlah)"
      ]
    },
    {
      "cell_type": "code",
      "source": [
        "#Program untuk melakukan iterasi di dalam list melalui indeks\n",
        "minuman = [\"teh\", \"boba\", \"kopi\", \"susu\"]\n",
        "p = len(minuman)\n",
        "\n",
        "#iterasin di dalam list melalui indeks\n",
        "for i in range(p):\n",
        "  print(minuman[i])"
      ],
      "metadata": {
        "colab": {
          "base_uri": "https://localhost:8080/"
        },
        "id": "iPJfVTbiXgpu",
        "outputId": "e22c8846-65d4-40a9-953e-f2daa4a8365a"
      },
      "execution_count": 4,
      "outputs": [
        {
          "output_type": "stream",
          "name": "stdout",
          "text": [
            "teh\n",
            "boba\n",
            "kopi\n",
            "susu\n"
          ]
        }
      ]
    },
    {
      "cell_type": "code",
      "source": [
        "#contoh for loop menggunakan else\n",
        "for i in range(p):\n",
        "  print(minuman[i])\n",
        "else:\n",
        "  print(\"Elemen sudah habis\")"
      ],
      "metadata": {
        "id": "l68IfWssYLqY",
        "outputId": "49b49171-af2a-4f71-d9f6-a2fc4b4805f1",
        "colab": {
          "base_uri": "https://localhost:8080/"
        }
      },
      "execution_count": 5,
      "outputs": [
        {
          "output_type": "stream",
          "name": "stdout",
          "text": [
            "teh\n",
            "boba\n",
            "kopi\n",
            "susu\n",
            "Elemen sudah habis\n"
          ]
        }
      ]
    },
    {
      "cell_type": "markdown",
      "source": [
        "Latihan 1"
      ],
      "metadata": {
        "id": "4L15n9KHY84z"
      }
    },
    {
      "cell_type": "code",
      "source": [
        "daftar_tagihan = [50000, 75000, -150000, 125000, 300000, -50000, 200000]\n",
        "total_tagihan = 0\n",
        "\n",
        "for tagihan in daftar_tagihan:\n",
        "    total_tagihan += tagihan\n",
        "\n",
        "print(\"Total tagihan adalah:\", total_tagihan)"
      ],
      "metadata": {
        "id": "lPET6PXPY7Fs",
        "outputId": "f8c391c6-d1f8-44d2-898c-e7b9f343048a",
        "colab": {
          "base_uri": "https://localhost:8080/"
        }
      },
      "execution_count": 7,
      "outputs": [
        {
          "output_type": "stream",
          "name": "stdout",
          "text": [
            "Total tagihan adalah: 550000\n"
          ]
        }
      ]
    },
    {
      "cell_type": "code",
      "source": [
        "#Program untuk menjumlahkan semua\n",
        "#bilangan asli hingga suku ke-n\n",
        "#jum = 1+2+3+...+n\n",
        "\n",
        "n = 10\n",
        "jumlah = 0\n",
        "i = 1\n",
        "\n",
        "while i <= n:\n",
        "  jumlah = jumlah + i\n",
        "  i = i + 1\n",
        "\n",
        "print(jumlah)"
      ],
      "metadata": {
        "id": "XREwKsIzcJL5",
        "outputId": "f1b30297-751f-450a-bbee-7de4bc9d8ff3",
        "colab": {
          "base_uri": "https://localhost:8080/"
        }
      },
      "execution_count": 8,
      "outputs": [
        {
          "output_type": "stream",
          "name": "stdout",
          "text": [
            "55\n"
          ]
        }
      ]
    },
    {
      "cell_type": "markdown",
      "source": [
        "Latihan 2"
      ],
      "metadata": {
        "id": "oUXxkTUzc0uf"
      }
    },
    {
      "cell_type": "code",
      "source": [
        "daftar_tagihan = [50000, 75000, 125000, 300000, 200000]\n",
        "total_tagihan = 0\n",
        "indeks = 0\n",
        "\n",
        "while indeks < len(daftar_tagihan):\n",
        "    total_tagihan += daftar_tagihan[indeks]\n",
        "    indeks += 1\n",
        "\n",
        "print(\"Total tagihan adalah:\", total_tagihan)"
      ],
      "metadata": {
        "id": "evow_f2Jc3va",
        "outputId": "c2ec5bb2-2201-48c7-a7ed-90935bce2316",
        "colab": {
          "base_uri": "https://localhost:8080/"
        }
      },
      "execution_count": 9,
      "outputs": [
        {
          "output_type": "stream",
          "name": "stdout",
          "text": [
            "Total tagihan adalah: 750000\n"
          ]
        }
      ]
    },
    {
      "cell_type": "code",
      "source": [
        "#Jika angka adalah bilangan positif maka print \"adalah bolangan positif\"\n",
        "\n",
        "angka = 3\n",
        "if angka > 0:\n",
        "  print(angka, \"adalah bilangan positif.\")\n",
        "print(\"pernyataan ini selalu ditampilkan.\")\n",
        "\n",
        "angka = -1\n",
        "if angka > 0:\n",
        "  print(angka, \"adalah bilangan positif.\")\n",
        "print(\"pernyataan ini juga selalu ditampilkan.\")\n",
        "\n"
      ],
      "metadata": {
        "id": "U2ERG1qKd9pt",
        "outputId": "14fb4c6b-84f4-4d18-9e05-9a2ed55c9968",
        "colab": {
          "base_uri": "https://localhost:8080/"
        }
      },
      "execution_count": 10,
      "outputs": [
        {
          "output_type": "stream",
          "name": "stdout",
          "text": [
            "3 adalah bilangan positif.\n",
            "pernyataan ini selalu ditampilkan.\n",
            "pernyataan ini juga selalu ditampilkan.\n"
          ]
        }
      ]
    },
    {
      "cell_type": "code",
      "source": [
        "#Program ini disusun untuk mengecek apakah angka tersebut kurang dari 0 atau tidak\n",
        "#dan menampilkan tulisan yang sesuai\n",
        "\n",
        "angka = 3\n",
        "if angka >= 0:\n",
        "  print(\"Bilangan lebih dari atau sama dengan 0\")\n",
        "else:\n",
        "  print(\"Bilangan kurang dari 0\")"
      ],
      "metadata": {
        "id": "R1KU1rtMe70S",
        "outputId": "0db92caa-03f2-4938-d1ba-7d4997d5abd1",
        "colab": {
          "base_uri": "https://localhost:8080/"
        }
      },
      "execution_count": 11,
      "outputs": [
        {
          "output_type": "stream",
          "name": "stdout",
          "text": [
            "Bilangan lebih dari atau sama dengan 0\n"
          ]
        }
      ]
    },
    {
      "cell_type": "code",
      "source": [
        "#Progran disusun untuk mengecek apakah dua buah angka sama atau tidak\n",
        "#dan menampilkan tulisan yang sesuai\n",
        "\n",
        "a = 5\n",
        "b = 5\n",
        "if a == b:\n",
        "  print(\"a dan b bernilai sama\")\n",
        "else:\n",
        "  print(\"a dan b bernilai berbeda\")\n",
        "  print(\"Belajar If Else\")"
      ],
      "metadata": {
        "id": "zkwvITNeftbG",
        "outputId": "c12e42fa-5b01-4320-dc67-511deba68146",
        "colab": {
          "base_uri": "https://localhost:8080/"
        }
      },
      "execution_count": 12,
      "outputs": [
        {
          "output_type": "stream",
          "name": "stdout",
          "text": [
            "a dan b bernilai sama\n"
          ]
        }
      ]
    },
    {
      "cell_type": "code",
      "source": [
        "#Progran disusun untuk mengecek apakah perbandingan dua buah angka\n",
        "#dan menampilkan tulisan yang sesuai\n",
        "\n",
        "#membaca dua angka\n",
        "bil1 = int(input(\"Masukkan bilangan pertama: \"))\n",
        "bil2 = int(input(\"Masukkan bilangan kedua: \"))\n",
        "\n",
        "#memilih bilangan yang lebih besar\n",
        "if bil1 > bil2:\n",
        "  bil_lebih_besar = bil1\n",
        "else:\n",
        "  bil_lebih_besar = bil2\n",
        "\n",
        "#Menampilkan hasil\n",
        "print('Bilangan yang lebih besar adalah', bil_lebih_besar)"
      ],
      "metadata": {
        "id": "Ehw9TDVCgV8_",
        "outputId": "1f9bdce1-1f67-4854-e9df-58c7e8dea305",
        "colab": {
          "base_uri": "https://localhost:8080/"
        }
      },
      "execution_count": 1,
      "outputs": [
        {
          "output_type": "stream",
          "name": "stdout",
          "text": [
            "Masukkan bilangan pertama: 3\n",
            "Masukkan bilangan kedua: 5\n",
            "Bilangan yang lebih besar adalah 5\n"
          ]
        }
      ]
    },
    {
      "cell_type": "code",
      "source": [
        "#Bilangan disusun untuk mengecek apakah angka merupakan biangan positif, negatif atau nol\n",
        "#dan menampilkan tulisan yang sesuai\n",
        "\n",
        "angka = 3.4\n",
        "if angka > 0:\n",
        "  print(\"Bilangan positif\")\n",
        "elif num == 0:\n",
        "  print(\"Nol\")\n",
        "else:\n",
        "  print(\"Bilangan negatif\")"
      ],
      "metadata": {
        "id": "uGT7ttnvvNPI",
        "outputId": "8c111da1-56f9-428f-e5ee-5fa798e26994",
        "colab": {
          "base_uri": "https://localhost:8080/"
        }
      },
      "execution_count": 1,
      "outputs": [
        {
          "output_type": "stream",
          "name": "stdout",
          "text": [
            "Bilangan positif\n"
          ]
        }
      ]
    },
    {
      "cell_type": "code",
      "source": [
        "#Statement if\n",
        "x = 4\n",
        "if x % 2 == 0: #jika x dibagi 2 sisanya samdengan 0\n",
        "  print(\"x habis dibagi dua\")\n",
        "\n",
        "#Statement if ... elif ... else\n",
        "x = 7\n",
        "if x % 2 == 0: #Jika x dibagi 2 sisanya samadengan 0\n",
        "  print(\"x habis dibagi dua\")\n",
        "elif x % 3 == 0: #Jika x dibagi 3 sisanya samadengan 0\n",
        "  print(\"x habis dibagi 3\")\n",
        "elif x % 5 == 0: #Jika x dibagi 5 sisanya samadengan 0\n",
        "  print(\"x habis dibagi 5\")\n",
        "else:\n",
        "  print(\"x tidak habis dibagi dua, tiga ataupun lima\")\n"
      ],
      "metadata": {
        "id": "tCsGz7iQwEVw",
        "outputId": "b595a748-1590-4d2e-aa75-e0f5a33ab287",
        "colab": {
          "base_uri": "https://localhost:8080/"
        }
      },
      "execution_count": 2,
      "outputs": [
        {
          "output_type": "stream",
          "name": "stdout",
          "text": [
            "x habis dibagi dua\n",
            "x tidak habis dibagi dua, tiga ataupun lima\n"
          ]
        }
      ]
    },
    {
      "cell_type": "code",
      "source": [
        "#Program disusun untuk mengecek apakah angka merupakan bilangan positif, negatif atau nol\n",
        "#dan menampilkan tulisan yang sesuai\n",
        "\n",
        "angka = float(input(\"Masukkan angka: \"))\n",
        "if angka >= 0:\n",
        "  if angka == 0:\n",
        "    print(\"Nol\")\n",
        "  else:\n",
        "    print(\"Bilangan positif\")\n",
        "else:\n",
        "  print(\"Bilangan negatif\")"
      ],
      "metadata": {
        "id": "QkdXW1DgxmBm",
        "outputId": "4c6bc4ac-01d0-46c0-b4cf-37da458281b4",
        "colab": {
          "base_uri": "https://localhost:8080/"
        }
      },
      "execution_count": 3,
      "outputs": [
        {
          "output_type": "stream",
          "name": "stdout",
          "text": [
            "Masukkan angka: 4\n",
            "Bilangan positif\n"
          ]
        }
      ]
    },
    {
      "cell_type": "markdown",
      "source": [
        "Latihan"
      ],
      "metadata": {
        "id": "Cms-4E7rybv0"
      }
    },
    {
      "cell_type": "code",
      "source": [
        "def Mahal_Diskon(harga):\n",
        "    kategori = \"\"\n",
        "    diskon = \"\"\n",
        "    harga_diskon = 0\n",
        "\n",
        "    if harga > 1000000:\n",
        "        kategori = \"Mahal\"\n",
        "        if harga >= 1000000 and harga < 2000000:\n",
        "            diskon = \"10%\"\n",
        "            harga_diskon = harga - (harga * 0.1)\n",
        "        elif harga >= 2000000 and harga < 5000000:\n",
        "            diskon = \"20%\"\n",
        "            harga_diskon = harga - (harga * 0.2)\n",
        "        else:\n",
        "            diskon = \"40%\"\n",
        "            harga_diskon = harga - (harga * 0.4)\n",
        "    else:\n",
        "        kategori = \"Murah\"\n",
        "\n",
        "    output_teks = f\"{kategori}. Kamu Dapat Diskon {diskon}\"\n",
        "    output_harga = harga_diskon if harga_diskon > 0 else harga\n",
        "\n",
        "    return output_teks, output_harga"
      ],
      "metadata": {
        "id": "PpjTZHCnyeXh"
      },
      "execution_count": 4,
      "outputs": []
    },
    {
      "cell_type": "code",
      "source": [
        "harga1 = 1500000\n",
        "teks1, harga_diskon1 = Mahal_Diskon(harga1)\n",
        "print(teks1)\n",
        "print(f\"Harga yang perlu dibayarkan: {harga_diskon1}\")\n",
        "\n",
        "harga2 = 5000000\n",
        "teks2, harga_diskon2 = Mahal_Diskon(harga2)\n",
        "print(teks2)\n",
        "print(f\"Harga yang perlu dibayarkan: {harga_diskon2}\")"
      ],
      "metadata": {
        "id": "iB0JSSPE0HVg",
        "outputId": "3ddc4a3b-3e61-4573-cf48-3c4064b854c9",
        "colab": {
          "base_uri": "https://localhost:8080/"
        }
      },
      "execution_count": 5,
      "outputs": [
        {
          "output_type": "stream",
          "name": "stdout",
          "text": [
            "Mahal. Kamu Dapat Diskon 10%\n",
            "Harga yang perlu dibayarkan: 1350000.0\n",
            "Mahal. Kamu Dapat Diskon 40%\n",
            "Harga yang perlu dibayarkan: 3000000.0\n"
          ]
        }
      ]
    }
  ]
}