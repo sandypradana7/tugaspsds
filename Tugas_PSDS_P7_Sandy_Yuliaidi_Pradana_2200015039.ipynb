{
  "nbformat": 4,
  "nbformat_minor": 0,
  "metadata": {
    "colab": {
      "provenance": []
    },
    "kernelspec": {
      "name": "python3",
      "display_name": "Python 3"
    },
    "language_info": {
      "name": "python"
    }
  },
  "cells": [
    {
      "cell_type": "markdown",
      "source": [
        "Latihan Operator 1"
      ],
      "metadata": {
        "id": "NQAfR_dVcvow"
      }
    },
    {
      "cell_type": "code",
      "execution_count": 29,
      "metadata": {
        "id": "yrbnSQK9YgVt",
        "colab": {
          "base_uri": "https://localhost:8080/"
        },
        "outputId": "b93be371-e11e-403b-bed4-27f357b95a78"
      },
      "outputs": [
        {
          "output_type": "stream",
          "name": "stdout",
          "text": [
            "Penjumlahan\n",
            "7\n",
            "--------------------\n",
            "Pengurangan\n",
            "7\n",
            "--------------------\n",
            "Perkalian\n",
            "7\n",
            "--------------------\n",
            "Pembagian\n",
            "7.0\n",
            "--------------------\n",
            "Modulus\n",
            "2\n",
            "--------------------\n",
            "Perpangkatan\n",
            "7\n",
            "--------------------\n",
            "Pembagian pembulatan flooring\n",
            "7\n",
            "--------------------\n"
          ]
        }
      ],
      "source": [
        "#Penjumlahan\n",
        "print('Penjumlahan')\n",
        "print(2+5)\n",
        "print('-'*20)\n",
        "#Pengurangan\n",
        "print('Pengurangan')\n",
        "print(9-2)\n",
        "print('-'*20)\n",
        "#Perkalian\n",
        "print('Perkalian')\n",
        "print(1*7)\n",
        "print('-'*20)\n",
        "#Pembagian\n",
        "print('Pembagian')\n",
        "print(14/2)\n",
        "print('-'*20)\n",
        "#Modulus\n",
        "print('Modulus')\n",
        "print(23%7)\n",
        "print('-'*20)\n",
        "#Perpangkatan\n",
        "print('Perpangkatan')\n",
        "print(7**1)\n",
        "print('-'*20)\n",
        "#Pembagian dengan hasil pembulatan flooring\n",
        "print('Pembagian pembulatan flooring')\n",
        "print(14//2)\n",
        "print('-'*20)\n"
      ]
    },
    {
      "cell_type": "markdown",
      "source": [
        "Latihan Operator 2"
      ],
      "metadata": {
        "id": "JnyC0YBrlShA"
      }
    },
    {
      "cell_type": "code",
      "source": [
        "#Penjumlahan\n",
        "x=3\n",
        "x=x+4\n",
        "print(x)\n",
        "x=3\n",
        "x+=4\n",
        "print(x)\n",
        "print('-'*20)\n",
        "#Pengurangan\n",
        "x=14\n",
        "x=x-7\n",
        "print(x)\n",
        "x=14\n",
        "x-=7\n",
        "print(x)\n",
        "print('-'*20)\n",
        "#Perkalian\n",
        "x=7\n",
        "x=x*1\n",
        "print(x)\n",
        "x=7\n",
        "x*=1\n",
        "print(x)\n",
        "print('-'*20)\n",
        "#Pembagian\n",
        "x=21\n",
        "x=x/3\n",
        "print(x)\n",
        "x=21\n",
        "x/=3\n",
        "print(x)\n",
        "print('-'*20)\n",
        "#Modulus\n",
        "x=24\n",
        "x=x%6\n",
        "print(x)\n",
        "x=24\n",
        "x%=6\n",
        "print(x)\n",
        "print('-'*20)\n",
        "#Perpangkatan\n",
        "x=3\n",
        "x=x**4\n",
        "print(x)\n",
        "x=3\n",
        "x**=4\n",
        "print(x)\n",
        "print('-'*20)\n",
        "#Pembagian dengan hasil pembagian flooring\n",
        "x=35\n",
        "x=x//5\n",
        "print(x)\n",
        "x=35\n",
        "x//=5\n",
        "print(x)\n",
        "print('-'*20)\n"
      ],
      "metadata": {
        "colab": {
          "base_uri": "https://localhost:8080/"
        },
        "id": "msmXfHwmlb-1",
        "outputId": "c5a5ea59-dc6d-4082-b1a2-129854cef63c"
      },
      "execution_count": 18,
      "outputs": [
        {
          "output_type": "stream",
          "name": "stdout",
          "text": [
            "7\n",
            "7\n",
            "--------------------\n",
            "7\n",
            "7\n",
            "--------------------\n",
            "7\n",
            "7\n",
            "--------------------\n",
            "7.0\n",
            "7.0\n",
            "--------------------\n",
            "0\n",
            "0\n",
            "--------------------\n",
            "81\n",
            "81\n",
            "--------------------\n",
            "7\n",
            "7\n",
            "--------------------\n"
          ]
        }
      ]
    },
    {
      "cell_type": "markdown",
      "source": [
        "Latihan Operator 3"
      ],
      "metadata": {
        "id": "BZK48VKtulrV"
      }
    },
    {
      "cell_type": "code",
      "source": [
        "print(7==7)\n",
        "print(7!=7)\n",
        "print(7>6)\n",
        "print(3<2)\n",
        "print(7>=7)\n",
        "print(9<=4)"
      ],
      "metadata": {
        "colab": {
          "base_uri": "https://localhost:8080/"
        },
        "id": "mkKwgl1_uu8R",
        "outputId": "92c66124-4232-4011-a45a-baf7e6601bbd"
      },
      "execution_count": 22,
      "outputs": [
        {
          "output_type": "stream",
          "name": "stdout",
          "text": [
            "True\n",
            "False\n",
            "True\n",
            "False\n",
            "True\n",
            "False\n"
          ]
        }
      ]
    },
    {
      "cell_type": "markdown",
      "source": [
        "Latihan Operator 4"
      ],
      "metadata": {
        "id": "xOL44bFswNNu"
      }
    },
    {
      "cell_type": "code",
      "source": [
        "print(False and True)\n",
        "print(True or True)\n",
        "print(not True and False)"
      ],
      "metadata": {
        "colab": {
          "base_uri": "https://localhost:8080/"
        },
        "id": "S0Sf0RIbwQMl",
        "outputId": "1dec8441-2ff5-42d3-e91e-3d02207069b2"
      },
      "execution_count": 27,
      "outputs": [
        {
          "output_type": "stream",
          "name": "stdout",
          "text": [
            "False\n",
            "True\n",
            "False\n"
          ]
        }
      ]
    },
    {
      "cell_type": "markdown",
      "source": [
        "Latihan Operator 5"
      ],
      "metadata": {
        "id": "jZ3Mz_Vgw_xn"
      }
    },
    {
      "cell_type": "code",
      "source": [
        "a=(2,4,6,8,10,12)\n",
        "b=4\n",
        "print(b in a)\n",
        "print('-'*20)\n",
        "a=(2,4,6,8,10,12)\n",
        "b=3\n",
        "print(b not in a)"
      ],
      "metadata": {
        "colab": {
          "base_uri": "https://localhost:8080/"
        },
        "id": "KqW--XaYxD7e",
        "outputId": "022bd287-8e46-41e3-fff0-678b63784081"
      },
      "execution_count": 28,
      "outputs": [
        {
          "output_type": "stream",
          "name": "stdout",
          "text": [
            "True\n",
            "--------------------\n",
            "True\n"
          ]
        }
      ]
    },
    {
      "cell_type": "markdown",
      "source": [
        "Latihan 1"
      ],
      "metadata": {
        "id": "JdmW6qG1zVKj"
      }
    },
    {
      "cell_type": "code",
      "source": [
        "#Membuat variabel\n",
        "kalimat='Aku suka matematika'\n",
        "bilangan1= 7\n",
        "bilangan2= 7.7\n",
        "bilangan3= False\n",
        "bilangan4= 3j+4\n",
        "#Menampilkan variabel\n",
        "print(kalimat)\n",
        "print(bilangan1)\n",
        "print(bilangan2)\n",
        "print(bilangan3)\n",
        "print(bilangan4)"
      ],
      "metadata": {
        "colab": {
          "base_uri": "https://localhost:8080/"
        },
        "id": "99pQuNOEzXYZ",
        "outputId": "653c1368-1332-43f0-ad20-3ace8f562c24"
      },
      "execution_count": 32,
      "outputs": [
        {
          "output_type": "stream",
          "name": "stdout",
          "text": [
            "Aku suka matematika\n",
            "7\n",
            "7.7\n",
            "False\n",
            "(4+3j)\n"
          ]
        }
      ]
    },
    {
      "cell_type": "markdown",
      "source": [
        "Latihan 2"
      ],
      "metadata": {
        "id": "EBRu36yr0d26"
      }
    },
    {
      "cell_type": "code",
      "source": [
        "print(type(kalimat))\n",
        "print(type(bilangan1))\n",
        "print(type(bilangan2))\n",
        "print(type(bilangan3))\n",
        "print(type(bilangan4))"
      ],
      "metadata": {
        "colab": {
          "base_uri": "https://localhost:8080/"
        },
        "id": "HtQc2Hwp0gpI",
        "outputId": "4b4e55e4-cb1c-4abf-d7a1-b733bc2b05b3"
      },
      "execution_count": 34,
      "outputs": [
        {
          "output_type": "stream",
          "name": "stdout",
          "text": [
            "<class 'str'>\n",
            "<class 'int'>\n",
            "<class 'float'>\n",
            "<class 'bool'>\n",
            "<class 'complex'>\n"
          ]
        }
      ]
    },
    {
      "cell_type": "markdown",
      "source": [
        "Latihan 3"
      ],
      "metadata": {
        "id": "NUZssswt1NRD"
      }
    },
    {
      "cell_type": "code",
      "source": [
        "#Konversi tipe data integer\n",
        "print(int(bilangan1))\n",
        "print(int(bilangan2))\n",
        "print(int(bilangan3))\n",
        "#Konversi tipe data float\n",
        "print(float(bilangan1))\n",
        "print(float(bilangan2))\n",
        "print(float(bilangan3))\n",
        "#Konversi tipe data string\n",
        "print(str(bilangan1))\n",
        "print(str(bilangan2))\n",
        "print(str(bilangan3))\n",
        "#Konversi tipe data bool\n",
        "print(bool(bilangan1))\n",
        "print(bool(bilangan2))\n",
        "print(bool(bilangan3))\n",
        "#Konversi tipe data complex\n",
        "print(complex(bilangan1))\n",
        "print(complex(bilangan2))\n",
        "print(complex(bilangan3))\n"
      ],
      "metadata": {
        "colab": {
          "base_uri": "https://localhost:8080/"
        },
        "id": "YQVvucFu1PO5",
        "outputId": "33e32795-cd6f-4322-de21-a4b3497f90e5"
      },
      "execution_count": 39,
      "outputs": [
        {
          "output_type": "stream",
          "name": "stdout",
          "text": [
            "7\n",
            "7\n",
            "0\n",
            "7.0\n",
            "7.7\n",
            "0.0\n",
            "7\n",
            "7.7\n",
            "False\n",
            "True\n",
            "True\n",
            "False\n",
            "(7+0j)\n",
            "(7.7+0j)\n",
            "0j\n"
          ]
        }
      ]
    }
  ]
}